{
 "cells": [
  {
   "cell_type": "code",
   "execution_count": 1,
   "id": "e71c47e2",
   "metadata": {},
   "outputs": [],
   "source": [
    "from __future__ import division\n",
    "import argparse\n",
    "import pandas as pd\n",
    "\n",
    "# useful stuff\n",
    "import numpy as np\n",
    "from scipy.special import expit\n",
    "from sklearn.preprocessing import normalize"
   ]
  },
  {
   "cell_type": "code",
   "execution_count": 2,
   "id": "8cbcdd6c",
   "metadata": {},
   "outputs": [],
   "source": [
    "__authors__ = ['author1','author2','author3']\n",
    "__emails__  = ['fatherchristmoas@northpole.dk','toothfairy@blackforest.no','easterbunny@greenfield.de']"
   ]
  },
  {
   "cell_type": "code",
   "execution_count": 3,
   "id": "0de8c935",
   "metadata": {},
   "outputs": [],
   "source": [
    "def text2sentences(path):\n",
    "    # feel free to make a better tokenization/pre-processing\n",
    "    sentences = []\n",
    "    with open(path) as f:\n",
    "        for l in f:\n",
    "            sentences.append( l.lower().split() )\n",
    "    return sentences\n",
    "\n",
    "def loadPairs(path):\n",
    "    data = pd.read_csv(path, delimiter='\\t')\n",
    "    pairs = zip(data['word1'],data['word2'],data['similarity'])\n",
    "    return pairs"
   ]
  },
  {
   "cell_type": "code",
   "execution_count": null,
   "id": "761384ce",
   "metadata": {},
   "outputs": [],
   "source": [
    "class SkipGram:\n",
    "    def __init__(self, sentences, nEmbed=100, negativeRate=5, winSize = 5, minCount = 5):\n",
    "        self.w2id = {} # word to ID mapping\n",
    "        self.trainset = {} # set of sentences\n",
    "        self.vocab = {} # list of valid words\n",
    "        raise NotImplementedError('implement it!')\n",
    "\n",
    "    def sample(self, omit):\n",
    "        \"\"\"samples negative words, ommitting those in set omit\"\"\"\n",
    "        raise NotImplementedError('this is easy, might want to do some preprocessing to speed up')\n",
    "\n",
    "    def train(self):\n",
    "        for counter, sentence in enumerate(self.trainset):\n",
    "            sentence = filter(lambda word: word in self.vocab, sentence)\n",
    "\n",
    "            for wpos, word in enumerate(sentence):\n",
    "                wIdx = self.w2id[word]\n",
    "                winsize = np.random.randint(self.winSize) + 1\n",
    "                start = max(0, wpos - winsize)\n",
    "                end = min(wpos + winsize + 1, len(sentence))\n",
    "\n",
    "                for context_word in sentence[start:end]:\n",
    "                    ctxtId = self.w2id[context_word]\n",
    "                    if ctxtId == wIdx: continue\n",
    "                    negativeIds = self.sample({wIdx, ctxtId})\n",
    "                    self.trainWord(wIdx, ctxtId, negativeIds)\n",
    "                    self.trainWords += 1\n",
    "\n",
    "            if counter % 1000 == 0:\n",
    "                print ' > training %d of %d' % (counter, len(self.trainset))\n",
    "                self.loss.append(self.accLoss / self.trainWords)\n",
    "                self.trainWords = 0\n",
    "                self.accLoss = 0.\n",
    "\n",
    "    def trainWord(self, wordId, contextId, negativeIds):\n",
    "        raise NotImplementedError('here is all the fun!')\n",
    "\n",
    "    def save(self,path):\n",
    "        raise NotImplementedError('implement it!')\n",
    "\n",
    "    def similarity(self,word1,word2):\n",
    "        \"\"\"\n",
    "            computes similiarity between the two words. unknown words are mapped to one common vector\n",
    "        :param word1:\n",
    "        :param word2:\n",
    "        :return: a float \\in [0,1] indicating the similarity (the higher the more similar)\n",
    "        \"\"\"\n",
    "        raise NotImplementedError('implement it!')\n",
    "\n",
    "    @staticmethod\n",
    "    def load(path):\n",
    "        raise NotImplementedError('implement it!')"
   ]
  },
  {
   "cell_type": "code",
   "execution_count": null,
   "id": "9ee9b693",
   "metadata": {},
   "outputs": [],
   "source": []
  },
  {
   "cell_type": "code",
   "execution_count": null,
   "id": "20da42fb",
   "metadata": {},
   "outputs": [],
   "source": []
  },
  {
   "cell_type": "code",
   "execution_count": null,
   "id": "ffc851a9",
   "metadata": {},
   "outputs": [],
   "source": []
  },
  {
   "cell_type": "code",
   "execution_count": null,
   "id": "c7aa83d4",
   "metadata": {},
   "outputs": [],
   "source": []
  },
  {
   "cell_type": "code",
   "execution_count": null,
   "id": "11e0758b",
   "metadata": {},
   "outputs": [],
   "source": []
  },
  {
   "cell_type": "markdown",
   "id": "4eb2570f",
   "metadata": {},
   "source": [
    "Main Work Stream"
   ]
  },
  {
   "cell_type": "code",
   "execution_count": null,
   "id": "853e8325",
   "metadata": {},
   "outputs": [],
   "source": [
    "if __name__ == '__main__':\n",
    "\n",
    "    parser = argparse.ArgumentParser()\n",
    "    parser.add_argument('--text', help='path containing training data', required=True)\n",
    "    parser.add_argument('--model', help='path to store/read model (when training/testing)', required=True)\n",
    "    parser.add_argument('--test', help='enters test mode', action='store_true')\n",
    "\n",
    "    opts = parser.parse_args()  # opts 这个对象你们能跑出来吗？\n",
    "\n",
    "    if not opts.test:\n",
    "        sentences = text2sentences(opts.text)\n",
    "        sg = SkipGram(sentences)\n",
    "        sg.train(...)\n",
    "        sg.save(opts.model)\n",
    "\n",
    "    else:\n",
    "        pairs = loadPairs(opts.text)\n",
    "\n",
    "        sg = SkipGram.load(opts.model)\n",
    "        for a,b,_ in pairs:\n",
    "            # make sure this does not raise any exception, even if a or b are not in sg.vocab\n",
    "            print(sg.similarity(a,b))"
   ]
  },
  {
   "cell_type": "code",
   "execution_count": null,
   "id": "18ce3ac1",
   "metadata": {},
   "outputs": [],
   "source": []
  },
  {
   "cell_type": "code",
   "execution_count": 5,
   "id": "04536f98",
   "metadata": {},
   "outputs": [
    {
     "data": {
      "text/plain": [
       "_StoreTrueAction(option_strings=['--test'], dest='test', nargs=0, const=True, default=False, type=None, choices=None, help='enters test mode', metavar=None)"
      ]
     },
     "execution_count": 5,
     "metadata": {},
     "output_type": "execute_result"
    }
   ],
   "source": [
    "    parser = argparse.ArgumentParser()\n",
    "    parser.add_argument('--text', help='path containing training data', required=True)\n",
    "    parser.add_argument('--model', help='path to store/read model (when training/testing)', required=True)\n",
    "    parser.add_argument('--test', help='enters test mode', action='store_true')"
   ]
  },
  {
   "cell_type": "markdown",
   "id": "4027b210",
   "metadata": {},
   "source": []
  },
  {
   "cell_type": "code",
   "execution_count": null,
   "id": "9fedba03",
   "metadata": {},
   "outputs": [],
   "source": []
  },
  {
   "cell_type": "code",
   "execution_count": null,
   "id": "c36d025f",
   "metadata": {},
   "outputs": [],
   "source": []
  },
  {
   "cell_type": "code",
   "execution_count": null,
   "id": "cd214597",
   "metadata": {},
   "outputs": [],
   "source": []
  },
  {
   "cell_type": "code",
   "execution_count": null,
   "id": "28be307f",
   "metadata": {},
   "outputs": [],
   "source": []
  },
  {
   "cell_type": "code",
   "execution_count": null,
   "id": "fa10dffd",
   "metadata": {},
   "outputs": [],
   "source": []
  },
  {
   "cell_type": "code",
   "execution_count": null,
   "id": "bd8c0034",
   "metadata": {},
   "outputs": [],
   "source": []
  },
  {
   "cell_type": "code",
   "execution_count": null,
   "id": "57ca1010",
   "metadata": {},
   "outputs": [],
   "source": []
  },
  {
   "cell_type": "code",
   "execution_count": null,
   "id": "500b8353",
   "metadata": {},
   "outputs": [],
   "source": []
  },
  {
   "cell_type": "code",
   "execution_count": null,
   "id": "63799977",
   "metadata": {},
   "outputs": [],
   "source": []
  },
  {
   "cell_type": "code",
   "execution_count": null,
   "id": "cd20594b",
   "metadata": {},
   "outputs": [],
   "source": []
  },
  {
   "cell_type": "code",
   "execution_count": null,
   "id": "7526d23d",
   "metadata": {},
   "outputs": [],
   "source": []
  },
  {
   "cell_type": "code",
   "execution_count": null,
   "id": "83aba08e",
   "metadata": {},
   "outputs": [],
   "source": []
  },
  {
   "cell_type": "code",
   "execution_count": 24,
   "id": "2cf11513",
   "metadata": {},
   "outputs": [],
   "source": [
    "import numpy as np \n",
    "import re\n",
    "import matplotlib.pyplot as plt\n",
    "from mpl_toolkits.mplot3d import Axes3D\n",
    "import itertools\n",
    "\n",
    "docs = [\"we think uncertainty about unemployment\",\n",
    "\t\t\"uncertainty and fears about inflation\",\n",
    "\t\t\"we think fears about unemployment\",\n",
    "\t\t\"we think fears and uncertainty about inflation and unemployment\",\n",
    "\t\t\"constant negative press covfefe\"]"
   ]
  },
  {
   "cell_type": "code",
   "execution_count": 25,
   "id": "708e326e",
   "metadata": {},
   "outputs": [],
   "source": [
    "docs_split = map(lambda x: x.split(),docs)\n",
    "docs_words = list(itertools.chain(*docs_split))\n",
    "words = np.unique(docs_words)\n",
    "\n",
    "vectors = np.eye(words.shape[0])"
   ]
  },
  {
   "cell_type": "code",
   "execution_count": 31,
   "id": "31a34d4b",
   "metadata": {},
   "outputs": [
    {
     "data": {
      "text/plain": [
       "array([[1., 0., 0., 0., 0., 0., 0., 0., 0., 0., 0., 0.],\n",
       "       [0., 1., 0., 0., 0., 0., 0., 0., 0., 0., 0., 0.],\n",
       "       [0., 0., 1., 0., 0., 0., 0., 0., 0., 0., 0., 0.],\n",
       "       [0., 0., 0., 1., 0., 0., 0., 0., 0., 0., 0., 0.],\n",
       "       [0., 0., 0., 0., 1., 0., 0., 0., 0., 0., 0., 0.],\n",
       "       [0., 0., 0., 0., 0., 1., 0., 0., 0., 0., 0., 0.],\n",
       "       [0., 0., 0., 0., 0., 0., 1., 0., 0., 0., 0., 0.],\n",
       "       [0., 0., 0., 0., 0., 0., 0., 1., 0., 0., 0., 0.],\n",
       "       [0., 0., 0., 0., 0., 0., 0., 0., 1., 0., 0., 0.],\n",
       "       [0., 0., 0., 0., 0., 0., 0., 0., 0., 1., 0., 0.],\n",
       "       [0., 0., 0., 0., 0., 0., 0., 0., 0., 0., 1., 0.],\n",
       "       [0., 0., 0., 0., 0., 0., 0., 0., 0., 0., 0., 1.]])"
      ]
     },
     "execution_count": 31,
     "metadata": {},
     "output_type": "execute_result"
    }
   ],
   "source": [
    "vectors"
   ]
  },
  {
   "cell_type": "code",
   "execution_count": 18,
   "id": "aa1f5c30",
   "metadata": {},
   "outputs": [],
   "source": [
    "M = 2\n",
    "H = 3\n",
    "\n",
    "U = np.random.randn(H,words.shape[0])\n",
    "V = np.random.randn(words.shape[0],H)"
   ]
  },
  {
   "cell_type": "code",
   "execution_count": 19,
   "id": "048cbefd",
   "metadata": {},
   "outputs": [],
   "source": [
    "def get_context(word_list):\n",
    "\tsamples = []\n",
    "\tfor word_ind in range(len(word_list)):\n",
    "\t\tcontext_inds = range(max(0,word_ind-M),\n",
    "\t\t\t\t\t\t\tmin(word_ind+M+1,len(word_list)))\n",
    "\t\tcontext_inds.remove(word_ind)\n",
    "\t\tcontext = [word_list[el] for el in context_inds]\n",
    "\t\tsamples.append((word_list[word_ind],context))\n",
    "\treturn samples"
   ]
  },
  {
   "cell_type": "code",
   "execution_count": 20,
   "id": "e90daef5",
   "metadata": {},
   "outputs": [],
   "source": [
    "training = list(itertools.chain(*map(get_context,docs_split)))\n"
   ]
  },
  {
   "cell_type": "code",
   "execution_count": 21,
   "id": "cacc84c6",
   "metadata": {},
   "outputs": [
    {
     "data": {
      "text/plain": [
       "[]"
      ]
     },
     "execution_count": 21,
     "metadata": {},
     "output_type": "execute_result"
    }
   ],
   "source": [
    "training"
   ]
  },
  {
   "cell_type": "code",
   "execution_count": 32,
   "id": "2c28bc21",
   "metadata": {},
   "outputs": [],
   "source": [
    "def sigma(vector, deriv=False):\n",
    "\tif deriv:\n",
    "\t\treturn sigma(vector)*(1-sigma(vector))\n",
    "\telse:\n",
    "\t\treturn np.exp(vector)/np.exp(vector).sum()\n",
    "\n",
    "log_likelihood = np.array([])\n",
    "epochs = 10000\n",
    "learning_rate = 0.001\n",
    "tolerance = 0.001\n",
    "discount = float(learning_rate)/epochs\n",
    "\n",
    "for epoch in range(epochs):\n",
    "\tlikelihood = 0\n",
    "\tfor example in training:\n",
    "\t\t# Forward propogate word\n",
    "\t\tinput_index = np.where(words==example[0])[0][0]\n",
    "\t\tl_input = vectors[input_index]\n",
    "\t\tl_hidden = np.dot(U,l_input)\n",
    "\t\tl_output = np.dot(V,l_hidden)\n",
    "\t\tl_output_a = sigma(l_output)\n",
    "\t\terrors = np.zeros(words.shape[0])\n",
    "\t\t# Compute the error for each word in context window\n",
    "\t\tfor context in example[1]:\n",
    "\t\t\toutput_index = np.where(words==context)[0][0]\n",
    "\t\t\tl_target= vectors[output_index]\n",
    "\t\t\terrors += (l_output_a-l_target)\n",
    "\t\t# Update the weights of V and W matrices\n",
    "\t\tdelta2 = errors*sigma(l_output,True)\n",
    "\t\tV -= learning_rate*np.outer(delta2,l_hidden)\n",
    "\t\tU -= learning_rate*np.outer(np.dot(V.T,delta2),l_input)\n",
    "\t\tlikelihood+=sum(map(np.log,l_output_a))\n",
    "\tlog_likelihood=np.append(log_likelihood,likelihood)\n",
    "\tlearning_rate -= discount\n",
    "\tif epoch<2: continue\n",
    "\tif (abs(likelihood-log_likelihood[-2])<tolerance):\n",
    "\t\tbreak"
   ]
  },
  {
   "cell_type": "code",
   "execution_count": 33,
   "id": "ca937fc9",
   "metadata": {},
   "outputs": [
    {
     "data": {
      "image/png": "[encoded data removed]",
      "text/plain": [
       "<Figure size 432x288 with 2 Axes>"
      ]
     },
     "metadata": {
      "needs_background": "light"
     },
     "output_type": "display_data"
    }
   ],
   "source": [
    "fig = plt.figure()\n",
    "ax = fig.add_subplot(1,2,1,projection=\"3d\")\n",
    "ax.scatter(U[0],U[1],U[2], alpha=0.3)\n",
    "for i,txt in enumerate(words):\n",
    "\tax.text(U[0][i],U[1][i],U[2][i],txt, size=10)\n",
    "ax = fig.add_subplot(1,2,2)\n",
    "ax.plot(log_likelihood)\n",
    "plt.show()"
   ]
  },
  {
   "cell_type": "code",
   "execution_count": null,
   "id": "3b87fc9d",
   "metadata": {},
   "outputs": [],
   "source": [
    "0.134， 1.234， 2.345"
   ]
  }
 ],
 "metadata": {
  "kernelspec": {
   "display_name": "Python 3 (ipykernel)",
   "language": "python",
   "name": "python3"
  },
  "language_info": {
   "codemirror_mode": {
    "name": "ipython",
    "version": 3
   },
   "file_extension": ".py",
   "mimetype": "text/x-python",
   "name": "python",
   "nbconvert_exporter": "python",
   "pygments_lexer": "ipython3",
   "version": "3.8.3"
  }
 },
 "nbformat": 4,
 "nbformat_minor": 5
}
